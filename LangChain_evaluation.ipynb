{
  "nbformat": 4,
  "nbformat_minor": 0,
  "metadata": {
    "colab": {
      "provenance": [],
      "authorship_tag": "ABX9TyP+ISYc0fXKbL0YXBfNzkUl",
      "include_colab_link": true
    },
    "kernelspec": {
      "name": "python3",
      "display_name": "Python 3"
    },
    "language_info": {
      "name": "python"
    }
  },
  "cells": [
    {
      "cell_type": "markdown",
      "metadata": {
        "id": "view-in-github",
        "colab_type": "text"
      },
      "source": [
        "<a href=\"https://colab.research.google.com/github/SomeiLam/langchain-example/blob/main/LangChain_evaluation.ipynb\" target=\"_parent\"><img src=\"https://colab.research.google.com/assets/colab-badge.svg\" alt=\"Open In Colab\"/></a>"
      ]
    },
    {
      "cell_type": "markdown",
      "source": [
        "# LangChain: Evaluation\n",
        "\n",
        "## Outline:\n",
        "\n",
        "* Example generation\n",
        "* Manual evaluation (and debuging)\n",
        "* LLM-assisted evaluation\n",
        "* LangChain evaluation platform"
      ],
      "metadata": {
        "id": "5ncVdA2eJrmK"
      }
    },
    {
      "cell_type": "code",
      "execution_count": null,
      "metadata": {
        "collapsed": true,
        "id": "yOyiqxLoJnFg"
      },
      "outputs": [],
      "source": [
        "!pip install langchain\n",
        "!pip install openai\n",
        "!pip install langchain_community\n",
        "!pip install -U langchain-openai\n",
        "!pip install docarray\n",
        "!pip install -U langchain-openai"
      ]
    },
    {
      "cell_type": "code",
      "source": [
        "import os\n",
        "import openai\n",
        "from google.colab import userdata\n",
        "api_key = userdata.get(\"OPENAI_API_KEY\")\n",
        "os.environ[\"OPENAI_API_KEY\"] = api_key\n",
        "openai.api_key = os.environ['OPENAI_API_KEY']\n",
        "llm_model = \"gpt-3.5-turbo\""
      ],
      "metadata": {
        "id": "btn4DJ2CJzZS"
      },
      "execution_count": 47,
      "outputs": []
    },
    {
      "cell_type": "code",
      "source": [
        "from langchain.chains import RetrievalQA\n",
        "from langchain_openai import ChatOpenAI\n",
        "from langchain.document_loaders import CSVLoader\n",
        "from langchain.indexes import VectorstoreIndexCreator\n",
        "from langchain.vectorstores import DocArrayInMemorySearch"
      ],
      "metadata": {
        "id": "A1AUZvmWJ1ea"
      },
      "execution_count": 8,
      "outputs": []
    },
    {
      "cell_type": "code",
      "source": [
        "file = 'OutdoorClothingCatalog_1000.csv'\n",
        "loader = CSVLoader(file_path=file)\n",
        "data = loader.load()"
      ],
      "metadata": {
        "id": "wcuYRzvsKWDv"
      },
      "execution_count": 9,
      "outputs": []
    },
    {
      "cell_type": "code",
      "source": [
        "from langchain_openai import OpenAIEmbeddings\n",
        "\n",
        "embedding_model = OpenAIEmbeddings()"
      ],
      "metadata": {
        "id": "wmPlakywKY3_"
      },
      "execution_count": 13,
      "outputs": []
    },
    {
      "cell_type": "code",
      "source": [
        "from langchain.indexes import VectorstoreIndexCreator\n",
        "from langchain.vectorstores import DocArrayInMemorySearch\n",
        "\n",
        "index_creator = VectorstoreIndexCreator(\n",
        "    embedding=embedding_model,\n",
        "    vectorstore_cls=DocArrayInMemorySearch,\n",
        ")\n",
        "index = index_creator.from_loaders([loader])"
      ],
      "metadata": {
        "colab": {
          "base_uri": "https://localhost:8080/"
        },
        "id": "80XEeC92KbN3",
        "outputId": "733147c6-ad4a-4cad-bd4e-f243bb2687f5"
      },
      "execution_count": 11,
      "outputs": [
        {
          "output_type": "stream",
          "name": "stderr",
          "text": [
            "/usr/local/lib/python3.11/dist-packages/pydantic/_migration.py:283: UserWarning: `pydantic.error_wrappers:ValidationError` has been moved to `pydantic:ValidationError`.\n",
            "  warnings.warn(f'`{import_path}` has been moved to `{new_location}`.')\n"
          ]
        }
      ]
    },
    {
      "cell_type": "code",
      "source": [
        "llm = ChatOpenAI(temperature = 0.0, model=llm_model)\n",
        "qa = RetrievalQA.from_chain_type(\n",
        "    llm=llm,\n",
        "    chain_type=\"stuff\",\n",
        "    retriever=index.vectorstore.as_retriever(),\n",
        "    verbose=True,\n",
        "    chain_type_kwargs = {\n",
        "        \"document_separator\": \"<<<<>>>>>\"\n",
        "    }\n",
        ")"
      ],
      "metadata": {
        "id": "jZhl2d12KdiW"
      },
      "execution_count": 48,
      "outputs": []
    },
    {
      "cell_type": "code",
      "source": [
        "data[10]"
      ],
      "metadata": {
        "colab": {
          "base_uri": "https://localhost:8080/"
        },
        "id": "OcFTHOtaKuwb",
        "outputId": "4ac64378-d8c5-4b65-db8f-a279a0f8ff3f"
      },
      "execution_count": 14,
      "outputs": [
        {
          "output_type": "execute_result",
          "data": {
            "text/plain": [
              "Document(metadata={'source': 'OutdoorClothingCatalog_1000.csv', 'row': 10}, page_content=\": 10\\nname: Cozy Comfort Pullover Set, Stripe\\ndescription: Perfect for lounging, this striped knit set lives up to its name. We used ultrasoft fabric and an easy design that's as comfortable at bedtime as it is when we have to make a quick run out.\\n\\nSize & Fit\\n- Pants are Favorite Fit: Sits lower on the waist.\\n- Relaxed Fit: Our most generous fit sits farthest from the body.\\n\\nFabric & Care\\n- In the softest blend of 63% polyester, 35% rayon and 2% spandex.\\n\\nAdditional Features\\n- Relaxed fit top with raglan sleeves and rounded hem.\\n- Pull-on pants have a wide elastic waistband and drawstring, side pockets and a modern slim leg.\\n\\nImported.\")"
            ]
          },
          "metadata": {},
          "execution_count": 14
        }
      ]
    },
    {
      "cell_type": "code",
      "source": [
        "data[11]"
      ],
      "metadata": {
        "colab": {
          "base_uri": "https://localhost:8080/"
        },
        "id": "KRRlEs3oKyIz",
        "outputId": "7738acfa-995d-4f8d-f622-cb7c18b10968"
      },
      "execution_count": 15,
      "outputs": [
        {
          "output_type": "execute_result",
          "data": {
            "text/plain": [
              "Document(metadata={'source': 'OutdoorClothingCatalog_1000.csv', 'row': 11}, page_content=': 11\\nname: Ultra-Lofty 850 Stretch Down Hooded Jacket\\ndescription: This technical stretch down jacket from our DownTek collection is sure to keep you warm and comfortable with its full-stretch construction providing exceptional range of motion. With a slightly fitted style that falls at the hip and best with a midweight layer, this jacket is suitable for light activity up to 20° and moderate activity up to -30°. The soft and durable 100% polyester shell offers complete windproof protection and is insulated with warm, lofty goose down. Other features include welded baffles for a no-stitch construction and excellent stretch, an adjustable hood, an interior media port and mesh stash pocket and a hem drawcord. Machine wash and dry. Imported.')"
            ]
          },
          "metadata": {},
          "execution_count": 15
        }
      ]
    },
    {
      "cell_type": "markdown",
      "source": [
        "### Hard-coded examples"
      ],
      "metadata": {
        "id": "WrY0tN3lK0xN"
      }
    },
    {
      "cell_type": "code",
      "source": [
        "examples = [\n",
        "    {\n",
        "        \"query\": \"Do the Cozy Comfort Pullover Set\\\n",
        "        have side pockets?\",\n",
        "        \"answer\": \"Yes\"\n",
        "    },\n",
        "    {\n",
        "        \"query\": \"What collection is the Ultra-Lofty \\\n",
        "        850 Stretch Down Hooded Jacket from?\",\n",
        "        \"answer\": \"The DownTek collection\"\n",
        "    }\n",
        "]"
      ],
      "metadata": {
        "id": "ZYMV4ezlK3Bg"
      },
      "execution_count": 16,
      "outputs": []
    },
    {
      "cell_type": "markdown",
      "source": [
        "### LLM-Generated examples"
      ],
      "metadata": {
        "id": "DbBiM5Y2K4YM"
      }
    },
    {
      "cell_type": "code",
      "source": [
        "from langchain.evaluation.qa import QAGenerateChain"
      ],
      "metadata": {
        "id": "849vLBY7K5P0"
      },
      "execution_count": 17,
      "outputs": []
    },
    {
      "cell_type": "code",
      "source": [
        "llm = ChatOpenAI(model=\"gpt-3.5-turbo\", temperature=0)\n",
        "example_gen_chain = QAGenerateChain.from_llm(llm)"
      ],
      "metadata": {
        "id": "OLpk_7qqK7Fj"
      },
      "execution_count": 20,
      "outputs": []
    },
    {
      "cell_type": "code",
      "source": [
        "# Prepare inputs as a list of dicts (each must have a \"doc\" key)\n",
        "inputs = [{\"doc\": t} for t in data[:5]]\n",
        "\n",
        "# 2) Apply to get raw LLM outputs\n",
        "inputs      = [{\"doc\": t} for t in data[:5]]\n",
        "raw_results = example_gen_chain.apply(inputs)\n",
        "# raw_results is a list of dicts: [{\"text\": \"Q1: …\\nA1: …\"}, …]\n",
        "raw_results\n"
      ],
      "metadata": {
        "colab": {
          "base_uri": "https://localhost:8080/"
        },
        "id": "kTsU-MoSK-Rb",
        "outputId": "792afb22-b494-4f5c-e4f8-e8d1bfdfa8e8"
      },
      "execution_count": 25,
      "outputs": [
        {
          "output_type": "execute_result",
          "data": {
            "text/plain": [
              "[{'qa_pairs': {'query': \"What is the approximate weight of the Women's Campside Oxfords per pair?\",\n",
              "   'answer': \"The approximate weight of the Women's Campside Oxfords per pair is 1 lb. 1 oz.\"}},\n",
              " {'qa_pairs': {'query': 'What are the dimensions of the small and medium sizes of the Recycled Waterhog Dog Mat, Chevron Weave?',\n",
              "   'answer': 'The small size has dimensions of 18\" x 28\" and the medium size has dimensions of 22.5\" x 34.5\".'}},\n",
              " {'qa_pairs': {'query': \"What features does the Infant and Toddler Girls' Coastal Chill Swimsuit, Two-Piece have according to the document?\",\n",
              "   'answer': 'The swimsuit features bright colors, ruffles, exclusive whimsical prints, four-way-stretch and chlorine-resistant fabric, UPF 50+ rated fabric for sun protection, crossover no-slip straps, fully lined bottom, and is machine washable and line dry for best results.'}},\n",
              " {'qa_pairs': {'query': 'What is the fabric composition of the Refresh Swimwear V-Neck Tankini Contrasts?',\n",
              "   'answer': 'The body of the tankini is made of 82% recycled nylon and 18% Lycra® spandex, while the lining is made of 90% recycled nylon and 10% Lycra® spandex.'}},\n",
              " {'qa_pairs': {'query': 'What technology is used in the EcoFlex 3L Storm Pants to make them more breathable and waterproof?',\n",
              "   'answer': 'The EcoFlex 3L Storm Pants use TEK O2 technology to provide enhanced breathability and waterproof protection.'}}]"
            ]
          },
          "metadata": {},
          "execution_count": 25
        }
      ]
    },
    {
      "cell_type": "code",
      "source": [
        "flat_qas = [item[\"qa_pairs\"] for item in raw_results]\n",
        "queries = [qa[\"query\"]   for qa in flat_qas]\n",
        "answers = [qa[\"answer\"] for qa in flat_qas]\n",
        "flat_qas"
      ],
      "metadata": {
        "colab": {
          "base_uri": "https://localhost:8080/"
        },
        "id": "b-6cSBeOMLvb",
        "outputId": "ecd050c7-e062-4c0b-b07d-b672b97186f7"
      },
      "execution_count": 39,
      "outputs": [
        {
          "output_type": "execute_result",
          "data": {
            "text/plain": [
              "[{'query': \"What is the approximate weight of the Women's Campside Oxfords per pair?\",\n",
              "  'answer': \"The approximate weight of the Women's Campside Oxfords per pair is 1 lb. 1 oz.\"},\n",
              " {'query': 'What are the dimensions of the small and medium sizes of the Recycled Waterhog Dog Mat, Chevron Weave?',\n",
              "  'answer': 'The small size has dimensions of 18\" x 28\" and the medium size has dimensions of 22.5\" x 34.5\".'},\n",
              " {'query': \"What features does the Infant and Toddler Girls' Coastal Chill Swimsuit, Two-Piece have according to the document?\",\n",
              "  'answer': 'The swimsuit features bright colors, ruffles, exclusive whimsical prints, four-way-stretch and chlorine-resistant fabric, UPF 50+ rated fabric for sun protection, crossover no-slip straps, fully lined bottom, and is machine washable and line dry for best results.'},\n",
              " {'query': 'What is the fabric composition of the Refresh Swimwear V-Neck Tankini Contrasts?',\n",
              "  'answer': 'The body of the tankini is made of 82% recycled nylon and 18% Lycra® spandex, while the lining is made of 90% recycled nylon and 10% Lycra® spandex.'},\n",
              " {'query': 'What technology is used in the EcoFlex 3L Storm Pants to make them more breathable and waterproof?',\n",
              "  'answer': 'The EcoFlex 3L Storm Pants use TEK O2 technology to provide enhanced breathability and waterproof protection.'}]"
            ]
          },
          "metadata": {},
          "execution_count": 39
        }
      ]
    },
    {
      "cell_type": "code",
      "source": [
        "import pandas as pd\n",
        "\n",
        "df_qas = pd.DataFrame(flat_qas)"
      ],
      "metadata": {
        "colab": {
          "base_uri": "https://localhost:8080/"
        },
        "id": "kgwvEYXPMzvC",
        "outputId": "91e9c80f-88ac-4461-d5ab-822c183c69c9"
      },
      "execution_count": 35,
      "outputs": [
        {
          "output_type": "execute_result",
          "data": {
            "text/plain": [
              "[{'query': \"What is the approximate weight of the Women's Campside Oxfords per pair?\",\n",
              "  'answer': \"The approximate weight of the Women's Campside Oxfords per pair is 1 lb. 1 oz.\"},\n",
              " {'query': 'What are the dimensions of the small and medium sizes of the Recycled Waterhog Dog Mat, Chevron Weave?',\n",
              "  'answer': 'The small size has dimensions of 18\" x 28\" and the medium size has dimensions of 22.5\" x 34.5\".'},\n",
              " {'query': \"What features does the Infant and Toddler Girls' Coastal Chill Swimsuit, Two-Piece have according to the document?\",\n",
              "  'answer': 'The swimsuit features bright colors, ruffles, exclusive whimsical prints, four-way-stretch and chlorine-resistant fabric, UPF 50+ rated fabric for sun protection, crossover no-slip straps, fully lined bottom, and is machine washable and line dry for best results.'},\n",
              " {'query': 'What is the fabric composition of the Refresh Swimwear V-Neck Tankini Contrasts?',\n",
              "  'answer': 'The body of the tankini is made of 82% recycled nylon and 18% Lycra® spandex, while the lining is made of 90% recycled nylon and 10% Lycra® spandex.'},\n",
              " {'query': 'What technology is used in the EcoFlex 3L Storm Pants to make them more breathable and waterproof?',\n",
              "  'answer': 'The EcoFlex 3L Storm Pants use TEK O2 technology to provide enhanced breathability and waterproof protection.'}]"
            ]
          },
          "metadata": {},
          "execution_count": 35
        }
      ]
    },
    {
      "cell_type": "code",
      "source": [
        "examples += flat_qas\n",
        "query = examples[0][\"query\"]\n",
        "result = qa.invoke(query)"
      ],
      "metadata": {
        "colab": {
          "base_uri": "https://localhost:8080/"
        },
        "id": "26UoIjJ2NC0G",
        "outputId": "a2f2c0d6-89b6-48a4-eb87-029e5174ca2a"
      },
      "execution_count": 49,
      "outputs": [
        {
          "output_type": "stream",
          "name": "stdout",
          "text": [
            "\n",
            "\n",
            "\u001b[1m> Entering new RetrievalQA chain...\u001b[0m\n",
            "\n",
            "\u001b[1m> Finished chain.\u001b[0m\n"
          ]
        }
      ]
    },
    {
      "cell_type": "code",
      "source": [
        "result"
      ],
      "metadata": {
        "colab": {
          "base_uri": "https://localhost:8080/"
        },
        "id": "f26e786UPe6D",
        "outputId": "de278943-9a64-4dd2-e8b1-c64d4331b005"
      },
      "execution_count": 50,
      "outputs": [
        {
          "output_type": "execute_result",
          "data": {
            "text/plain": [
              "{'query': 'Do the Cozy Comfort Pullover Set        have side pockets?',\n",
              " 'result': 'Yes, the Cozy Comfort Pullover Set does have side pockets.'}"
            ]
          },
          "metadata": {},
          "execution_count": 50
        }
      ]
    },
    {
      "cell_type": "markdown",
      "source": [
        "## Manual Evaluation"
      ],
      "metadata": {
        "id": "8l5CA8IcPhT2"
      }
    },
    {
      "cell_type": "code",
      "source": [
        "import langchain\n",
        "langchain.debug = True"
      ],
      "metadata": {
        "id": "M9wtVbr-PiXf"
      },
      "execution_count": 51,
      "outputs": []
    },
    {
      "cell_type": "code",
      "source": [
        "qa.invoke(examples[0][\"query\"])"
      ],
      "metadata": {
        "colab": {
          "base_uri": "https://localhost:8080/"
        },
        "id": "-oJmRLtjPjhy",
        "outputId": "3764b1dc-cfe5-4c73-8950-dda64a0a00c3"
      },
      "execution_count": 52,
      "outputs": [
        {
          "output_type": "stream",
          "name": "stdout",
          "text": [
            "\u001b[32;1m\u001b[1;3m[chain/start]\u001b[0m \u001b[1m[chain:RetrievalQA] Entering Chain run with input:\n",
            "\u001b[0m{\n",
            "  \"query\": \"Do the Cozy Comfort Pullover Set        have side pockets?\"\n",
            "}\n",
            "\u001b[32;1m\u001b[1;3m[chain/start]\u001b[0m \u001b[1m[chain:RetrievalQA > chain:StuffDocumentsChain] Entering Chain run with input:\n",
            "\u001b[0m[inputs]\n",
            "\u001b[32;1m\u001b[1;3m[chain/start]\u001b[0m \u001b[1m[chain:RetrievalQA > chain:StuffDocumentsChain > chain:LLMChain] Entering Chain run with input:\n",
            "\u001b[0m{\n",
            "  \"question\": \"Do the Cozy Comfort Pullover Set        have side pockets?\",\n",
            "  \"context\": \": 10\\nname: Cozy Comfort Pullover Set, Stripe\\ndescription: Perfect for lounging, this striped knit set lives up to its name. We used ultrasoft fabric and an easy design that's as comfortable at bedtime as it is when we have to make a quick run out.\\n\\nSize & Fit\\n- Pants are Favorite Fit: Sits lower on the waist.\\n- Relaxed Fit: Our most generous fit sits farthest from the body.\\n\\nFabric & Care\\n- In the softest blend of 63% polyester, 35% rayon and 2% spandex.\\n\\nAdditional Features\\n- Relaxed fit top with raglan sleeves and rounded hem.\\n- Pull-on pants have a wide elastic waistband and drawstring, side pockets and a modern slim leg.\\n\\nImported.<<<<>>>>>: 73\\nname: Cozy Cuddles Knit Pullover Set\\ndescription: Perfect for lounging, this knit set lives up to its name. We used ultrasoft fabric and an easy design that's as comfortable at bedtime as it is when we have to make a quick run out. \\n\\nSize & Fit \\nPants are Favorite Fit: Sits lower on the waist. \\nRelaxed Fit: Our most generous fit sits farthest from the body. \\n\\nFabric & Care \\nIn the softest blend of 63% polyester, 35% rayon and 2% spandex.\\n\\nAdditional Features \\nRelaxed fit top with raglan sleeves and rounded hem. \\nPull-on pants have a wide elastic waistband and drawstring, side pockets and a modern slim leg. \\nImported.<<<<>>>>>: 632\\nname: Cozy Comfort Fleece Pullover\\ndescription: The ultimate sweater fleece – made from superior fabric and offered at an unbeatable price. \\n\\nSize & Fit\\nSlightly Fitted: Softly shapes the body. Falls at hip. \\n\\nWhy We Love It\\nOur customers (and employees) love the rugged construction and heritage-inspired styling of our popular Sweater Fleece Pullover and wear it for absolutely everything. From high-intensity activities to everyday tasks, you'll find yourself reaching for it every time.\\n\\nFabric & Care\\nRugged sweater-knit exterior and soft brushed interior for exceptional warmth and comfort. Made from soft, 100% polyester. Machine wash and dry.\\n\\nAdditional Features\\nFeatures our classic Mount Katahdin logo. Snap placket. Front princess seams create a feminine shape. Kangaroo handwarmer pockets. Cuffs and hem reinforced with jersey binding. Imported.\\n\\n – Official Supplier to the U.S. Ski Team\\nTHEIR WILL TO WIN, WOVEN RIGHT IN. LEARN MORE<<<<>>>>>: 151\\nname: Cozy Quilted Sweatshirt\\ndescription: Our sweatshirt is an instant classic with its great quilted texture and versatile weight that easily transitions between seasons. With a traditional fit that is relaxed through the chest, sleeve, and waist, this pullover is lightweight enough to be worn most months of the year. The cotton blend fabric is super soft and comfortable, making it the perfect casual layer. To make dressing easy, this sweatshirt also features a snap placket and a heritage-inspired Mt. Katahdin logo patch. For care, machine wash and dry. Imported.\"\n",
            "}\n",
            "\u001b[32;1m\u001b[1;3m[llm/start]\u001b[0m \u001b[1m[chain:RetrievalQA > chain:StuffDocumentsChain > chain:LLMChain > llm:ChatOpenAI] Entering LLM run with input:\n",
            "\u001b[0m{\n",
            "  \"prompts\": [\n",
            "    \"System: Use the following pieces of context to answer the user's question. \\nIf you don't know the answer, just say that you don't know, don't try to make up an answer.\\n----------------\\n: 10\\nname: Cozy Comfort Pullover Set, Stripe\\ndescription: Perfect for lounging, this striped knit set lives up to its name. We used ultrasoft fabric and an easy design that's as comfortable at bedtime as it is when we have to make a quick run out.\\n\\nSize & Fit\\n- Pants are Favorite Fit: Sits lower on the waist.\\n- Relaxed Fit: Our most generous fit sits farthest from the body.\\n\\nFabric & Care\\n- In the softest blend of 63% polyester, 35% rayon and 2% spandex.\\n\\nAdditional Features\\n- Relaxed fit top with raglan sleeves and rounded hem.\\n- Pull-on pants have a wide elastic waistband and drawstring, side pockets and a modern slim leg.\\n\\nImported.<<<<>>>>>: 73\\nname: Cozy Cuddles Knit Pullover Set\\ndescription: Perfect for lounging, this knit set lives up to its name. We used ultrasoft fabric and an easy design that's as comfortable at bedtime as it is when we have to make a quick run out. \\n\\nSize & Fit \\nPants are Favorite Fit: Sits lower on the waist. \\nRelaxed Fit: Our most generous fit sits farthest from the body. \\n\\nFabric & Care \\nIn the softest blend of 63% polyester, 35% rayon and 2% spandex.\\n\\nAdditional Features \\nRelaxed fit top with raglan sleeves and rounded hem. \\nPull-on pants have a wide elastic waistband and drawstring, side pockets and a modern slim leg. \\nImported.<<<<>>>>>: 632\\nname: Cozy Comfort Fleece Pullover\\ndescription: The ultimate sweater fleece – made from superior fabric and offered at an unbeatable price. \\n\\nSize & Fit\\nSlightly Fitted: Softly shapes the body. Falls at hip. \\n\\nWhy We Love It\\nOur customers (and employees) love the rugged construction and heritage-inspired styling of our popular Sweater Fleece Pullover and wear it for absolutely everything. From high-intensity activities to everyday tasks, you'll find yourself reaching for it every time.\\n\\nFabric & Care\\nRugged sweater-knit exterior and soft brushed interior for exceptional warmth and comfort. Made from soft, 100% polyester. Machine wash and dry.\\n\\nAdditional Features\\nFeatures our classic Mount Katahdin logo. Snap placket. Front princess seams create a feminine shape. Kangaroo handwarmer pockets. Cuffs and hem reinforced with jersey binding. Imported.\\n\\n – Official Supplier to the U.S. Ski Team\\nTHEIR WILL TO WIN, WOVEN RIGHT IN. LEARN MORE<<<<>>>>>: 151\\nname: Cozy Quilted Sweatshirt\\ndescription: Our sweatshirt is an instant classic with its great quilted texture and versatile weight that easily transitions between seasons. With a traditional fit that is relaxed through the chest, sleeve, and waist, this pullover is lightweight enough to be worn most months of the year. The cotton blend fabric is super soft and comfortable, making it the perfect casual layer. To make dressing easy, this sweatshirt also features a snap placket and a heritage-inspired Mt. Katahdin logo patch. For care, machine wash and dry. Imported.\\nHuman: Do the Cozy Comfort Pullover Set        have side pockets?\"\n",
            "  ]\n",
            "}\n",
            "\u001b[36;1m\u001b[1;3m[llm/end]\u001b[0m \u001b[1m[chain:RetrievalQA > chain:StuffDocumentsChain > chain:LLMChain > llm:ChatOpenAI] [778ms] Exiting LLM run with output:\n",
            "\u001b[0m{\n",
            "  \"generations\": [\n",
            "    [\n",
            "      {\n",
            "        \"text\": \"Yes, the Cozy Comfort Pullover Set does have side pockets.\",\n",
            "        \"generation_info\": {\n",
            "          \"finish_reason\": \"stop\",\n",
            "          \"logprobs\": null\n",
            "        },\n",
            "        \"type\": \"ChatGeneration\",\n",
            "        \"message\": {\n",
            "          \"lc\": 1,\n",
            "          \"type\": \"constructor\",\n",
            "          \"id\": [\n",
            "            \"langchain\",\n",
            "            \"schema\",\n",
            "            \"messages\",\n",
            "            \"AIMessage\"\n",
            "          ],\n",
            "          \"kwargs\": {\n",
            "            \"content\": \"Yes, the Cozy Comfort Pullover Set does have side pockets.\",\n",
            "            \"additional_kwargs\": {\n",
            "              \"refusal\": null\n",
            "            },\n",
            "            \"response_metadata\": {\n",
            "              \"token_usage\": {\n",
            "                \"completion_tokens\": 15,\n",
            "                \"prompt_tokens\": 733,\n",
            "                \"total_tokens\": 748,\n",
            "                \"completion_tokens_details\": {\n",
            "                  \"accepted_prediction_tokens\": 0,\n",
            "                  \"audio_tokens\": 0,\n",
            "                  \"reasoning_tokens\": 0,\n",
            "                  \"rejected_prediction_tokens\": 0\n",
            "                },\n",
            "                \"prompt_tokens_details\": {\n",
            "                  \"audio_tokens\": 0,\n",
            "                  \"cached_tokens\": 0\n",
            "                }\n",
            "              },\n",
            "              \"model_name\": \"gpt-3.5-turbo-0125\",\n",
            "              \"system_fingerprint\": null,\n",
            "              \"id\": \"chatcmpl-BUepRkq9j9SgnmdLJ4UkXfXL7tCgW\",\n",
            "              \"service_tier\": \"default\",\n",
            "              \"finish_reason\": \"stop\",\n",
            "              \"logprobs\": null\n",
            "            },\n",
            "            \"type\": \"ai\",\n",
            "            \"id\": \"run-cf0078ab-b702-4053-8063-4803c24c9cc5-0\",\n",
            "            \"usage_metadata\": {\n",
            "              \"input_tokens\": 733,\n",
            "              \"output_tokens\": 15,\n",
            "              \"total_tokens\": 748,\n",
            "              \"input_token_details\": {\n",
            "                \"audio\": 0,\n",
            "                \"cache_read\": 0\n",
            "              },\n",
            "              \"output_token_details\": {\n",
            "                \"audio\": 0,\n",
            "                \"reasoning\": 0\n",
            "              }\n",
            "            },\n",
            "            \"tool_calls\": [],\n",
            "            \"invalid_tool_calls\": []\n",
            "          }\n",
            "        }\n",
            "      }\n",
            "    ]\n",
            "  ],\n",
            "  \"llm_output\": {\n",
            "    \"token_usage\": {\n",
            "      \"completion_tokens\": 15,\n",
            "      \"prompt_tokens\": 733,\n",
            "      \"total_tokens\": 748,\n",
            "      \"completion_tokens_details\": {\n",
            "        \"accepted_prediction_tokens\": 0,\n",
            "        \"audio_tokens\": 0,\n",
            "        \"reasoning_tokens\": 0,\n",
            "        \"rejected_prediction_tokens\": 0\n",
            "      },\n",
            "      \"prompt_tokens_details\": {\n",
            "        \"audio_tokens\": 0,\n",
            "        \"cached_tokens\": 0\n",
            "      }\n",
            "    },\n",
            "    \"model_name\": \"gpt-3.5-turbo-0125\",\n",
            "    \"system_fingerprint\": null,\n",
            "    \"id\": \"chatcmpl-BUepRkq9j9SgnmdLJ4UkXfXL7tCgW\",\n",
            "    \"service_tier\": \"default\"\n",
            "  },\n",
            "  \"run\": null,\n",
            "  \"type\": \"LLMResult\"\n",
            "}\n",
            "\u001b[36;1m\u001b[1;3m[chain/end]\u001b[0m \u001b[1m[chain:RetrievalQA > chain:StuffDocumentsChain > chain:LLMChain] [780ms] Exiting Chain run with output:\n",
            "\u001b[0m{\n",
            "  \"text\": \"Yes, the Cozy Comfort Pullover Set does have side pockets.\"\n",
            "}\n",
            "\u001b[36;1m\u001b[1;3m[chain/end]\u001b[0m \u001b[1m[chain:RetrievalQA > chain:StuffDocumentsChain] [784ms] Exiting Chain run with output:\n",
            "\u001b[0m{\n",
            "  \"output_text\": \"Yes, the Cozy Comfort Pullover Set does have side pockets.\"\n",
            "}\n",
            "\u001b[36;1m\u001b[1;3m[chain/end]\u001b[0m \u001b[1m[chain:RetrievalQA] [1.07s] Exiting Chain run with output:\n",
            "\u001b[0m{\n",
            "  \"result\": \"Yes, the Cozy Comfort Pullover Set does have side pockets.\"\n",
            "}\n"
          ]
        },
        {
          "output_type": "execute_result",
          "data": {
            "text/plain": [
              "{'query': 'Do the Cozy Comfort Pullover Set        have side pockets?',\n",
              " 'result': 'Yes, the Cozy Comfort Pullover Set does have side pockets.'}"
            ]
          },
          "metadata": {},
          "execution_count": 52
        }
      ]
    },
    {
      "cell_type": "code",
      "source": [
        "# Turn off the debug mode\n",
        "langchain.debug = False"
      ],
      "metadata": {
        "id": "MMvVcZJ8PnGY"
      },
      "execution_count": 53,
      "outputs": []
    },
    {
      "cell_type": "markdown",
      "source": [
        "## LLM assisted evaluation"
      ],
      "metadata": {
        "id": "JHwDip1tPosz"
      }
    },
    {
      "cell_type": "code",
      "source": [
        "new_examples = [\n",
        "    {\n",
        "        \"query\": \"Do the Cozy Comfort Pullover Set\\\n",
        "        have side pockets?\",\n",
        "        \"answer\": \"Yes\"\n",
        "    },\n",
        "    {\n",
        "        \"query\": \"What collection is the Ultra-Lofty \\\n",
        "        850 Stretch Down Hooded Jacket from?\",\n",
        "        \"answer\": \"The DownTek collection\"\n",
        "    }\n",
        "]\n",
        "new_examples += flat_qas"
      ],
      "metadata": {
        "id": "IyDZGUzoP-GO"
      },
      "execution_count": 57,
      "outputs": []
    },
    {
      "cell_type": "code",
      "source": [
        "predictions = qa.batch(new_examples)"
      ],
      "metadata": {
        "colab": {
          "base_uri": "https://localhost:8080/"
        },
        "id": "wlti9IGuPpoF",
        "outputId": "f67aa0a4-3360-4986-e067-1b56e818960b"
      },
      "execution_count": 58,
      "outputs": [
        {
          "output_type": "stream",
          "name": "stdout",
          "text": [
            "\n",
            "\n",
            "\u001b[1m> Entering new RetrievalQA chain...\u001b[0m\n",
            "\n",
            "\n",
            "\u001b[1m> Entering new RetrievalQA chain...\u001b[0m\n",
            "\n",
            "\n",
            "\u001b[1m> Entering new RetrievalQA chain...\u001b[0m\n",
            "\n",
            "\n",
            "\u001b[1m> Entering new RetrievalQA chain...\u001b[0m\n",
            "\n",
            "\n",
            "\u001b[1m> Entering new RetrievalQA chain...\u001b[0m\n",
            "\n",
            "\n",
            "\u001b[1m> Entering new RetrievalQA chain...\u001b[0m\n",
            "\n",
            "\u001b[1m> Finished chain.\u001b[0m\n",
            "\n",
            "\n",
            "\u001b[1m> Entering new RetrievalQA chain...\u001b[0m\n",
            "\n",
            "\u001b[1m> Finished chain.\u001b[0m\n",
            "\n",
            "\u001b[1m> Finished chain.\u001b[0m\n",
            "\n",
            "\u001b[1m> Finished chain.\u001b[0m\n",
            "\n",
            "\u001b[1m> Finished chain.\u001b[0m\n",
            "\n",
            "\u001b[1m> Finished chain.\u001b[0m\n",
            "\n",
            "\u001b[1m> Finished chain.\u001b[0m\n"
          ]
        }
      ]
    },
    {
      "cell_type": "code",
      "source": [
        "from langchain.evaluation.qa import QAEvalChain"
      ],
      "metadata": {
        "id": "aQZOpMrfQwNX"
      },
      "execution_count": 59,
      "outputs": []
    },
    {
      "cell_type": "code",
      "source": [
        "llm = ChatOpenAI(temperature=0, model=llm_model)\n",
        "eval_chain = QAEvalChain.from_llm(llm)"
      ],
      "metadata": {
        "id": "eXEBLzBSQy_1"
      },
      "execution_count": 60,
      "outputs": []
    },
    {
      "cell_type": "code",
      "source": [
        "graded_outputs = eval_chain.evaluate(new_examples, predictions)"
      ],
      "metadata": {
        "id": "LP8hjpMaQ0cz"
      },
      "execution_count": 62,
      "outputs": []
    },
    {
      "cell_type": "code",
      "source": [
        "for i, eg in enumerate(new_examples):\n",
        "    print(predictions)\n",
        "    print(f\"Example {i}:\")\n",
        "    print(\"Question:        \" + predictions[i][\"query\"])\n",
        "    print(\"Real Answer:     \" + predictions[i][\"answer\"])\n",
        "    print(\"Predicted Answer:\" + predictions[i][\"result\"])\n",
        "    print(\"Predicted Grade: \" + graded_outputs[i][\"results\"])\n",
        "    print()"
      ],
      "metadata": {
        "colab": {
          "base_uri": "https://localhost:8080/"
        },
        "id": "1fCrCKkIQ_aa",
        "outputId": "b9fc4a51-ee84-4971-a757-e675bfdc7574"
      },
      "execution_count": 71,
      "outputs": [
        {
          "output_type": "stream",
          "name": "stdout",
          "text": [
            "[{'query': 'Do the Cozy Comfort Pullover Set        have side pockets?', 'answer': 'Yes', 'result': 'Yes, the Cozy Comfort Pullover Set does have side pockets.'}, {'query': 'What collection is the Ultra-Lofty         850 Stretch Down Hooded Jacket from?', 'answer': 'The DownTek collection', 'result': 'The Ultra-Lofty 850 Stretch Down Hooded Jacket is from the DownTek collection.'}, {'query': \"What is the approximate weight of the Women's Campside Oxfords per pair?\", 'answer': \"The approximate weight of the Women's Campside Oxfords per pair is 1 lb. 1 oz.\", 'result': \"The approximate weight of the Women's Campside Oxfords per pair is 1 lb. 1 oz.\"}, {'query': 'What are the dimensions of the small and medium sizes of the Recycled Waterhog Dog Mat, Chevron Weave?', 'answer': 'The small size has dimensions of 18\" x 28\" and the medium size has dimensions of 22.5\" x 34.5\".', 'result': 'The dimensions of the small size of the Recycled Waterhog Dog Mat, Chevron Weave are 18\" x 28\", and the dimensions of the medium size are 22.5\" x 34.5\".'}, {'query': \"What features does the Infant and Toddler Girls' Coastal Chill Swimsuit, Two-Piece have according to the document?\", 'answer': 'The swimsuit features bright colors, ruffles, exclusive whimsical prints, four-way-stretch and chlorine-resistant fabric, UPF 50+ rated fabric for sun protection, crossover no-slip straps, fully lined bottom, and is machine washable and line dry for best results.', 'result': \"The Infant and Toddler Girls' Coastal Chill Swimsuit, Two-Piece features four-way-stretch and chlorine-resistant fabric, UPF 50+ rated fabric for sun protection, crossover no-slip straps, fully lined bottom for secure fit and coverage, and it is machine washable and should be line dried for best results.\"}, {'query': 'What is the fabric composition of the Refresh Swimwear V-Neck Tankini Contrasts?', 'answer': 'The body of the tankini is made of 82% recycled nylon and 18% Lycra® spandex, while the lining is made of 90% recycled nylon and 10% Lycra® spandex.', 'result': 'The fabric composition of the Refresh Swimwear V-Neck Tankini Contrasts is as follows:\\n- Body: 82% recycled nylon, 18% Lycra® spandex\\n- Lining: 90% recycled nylon, 10% Lycra® spandex'}, {'query': 'What technology is used in the EcoFlex 3L Storm Pants to make them more breathable and waterproof?', 'answer': 'The EcoFlex 3L Storm Pants use TEK O2 technology to provide enhanced breathability and waterproof protection.', 'result': 'The EcoFlex 3L Storm Pants use TEK O2 technology to make them more breathable and waterproof.'}]\n",
            "Example 0:\n",
            "Question:        Do the Cozy Comfort Pullover Set        have side pockets?\n",
            "Real Answer:     Yes\n",
            "Predicted Answer:Yes, the Cozy Comfort Pullover Set does have side pockets.\n",
            "Predicted Grade: CORRECT\n",
            "\n",
            "[{'query': 'Do the Cozy Comfort Pullover Set        have side pockets?', 'answer': 'Yes', 'result': 'Yes, the Cozy Comfort Pullover Set does have side pockets.'}, {'query': 'What collection is the Ultra-Lofty         850 Stretch Down Hooded Jacket from?', 'answer': 'The DownTek collection', 'result': 'The Ultra-Lofty 850 Stretch Down Hooded Jacket is from the DownTek collection.'}, {'query': \"What is the approximate weight of the Women's Campside Oxfords per pair?\", 'answer': \"The approximate weight of the Women's Campside Oxfords per pair is 1 lb. 1 oz.\", 'result': \"The approximate weight of the Women's Campside Oxfords per pair is 1 lb. 1 oz.\"}, {'query': 'What are the dimensions of the small and medium sizes of the Recycled Waterhog Dog Mat, Chevron Weave?', 'answer': 'The small size has dimensions of 18\" x 28\" and the medium size has dimensions of 22.5\" x 34.5\".', 'result': 'The dimensions of the small size of the Recycled Waterhog Dog Mat, Chevron Weave are 18\" x 28\", and the dimensions of the medium size are 22.5\" x 34.5\".'}, {'query': \"What features does the Infant and Toddler Girls' Coastal Chill Swimsuit, Two-Piece have according to the document?\", 'answer': 'The swimsuit features bright colors, ruffles, exclusive whimsical prints, four-way-stretch and chlorine-resistant fabric, UPF 50+ rated fabric for sun protection, crossover no-slip straps, fully lined bottom, and is machine washable and line dry for best results.', 'result': \"The Infant and Toddler Girls' Coastal Chill Swimsuit, Two-Piece features four-way-stretch and chlorine-resistant fabric, UPF 50+ rated fabric for sun protection, crossover no-slip straps, fully lined bottom for secure fit and coverage, and it is machine washable and should be line dried for best results.\"}, {'query': 'What is the fabric composition of the Refresh Swimwear V-Neck Tankini Contrasts?', 'answer': 'The body of the tankini is made of 82% recycled nylon and 18% Lycra® spandex, while the lining is made of 90% recycled nylon and 10% Lycra® spandex.', 'result': 'The fabric composition of the Refresh Swimwear V-Neck Tankini Contrasts is as follows:\\n- Body: 82% recycled nylon, 18% Lycra® spandex\\n- Lining: 90% recycled nylon, 10% Lycra® spandex'}, {'query': 'What technology is used in the EcoFlex 3L Storm Pants to make them more breathable and waterproof?', 'answer': 'The EcoFlex 3L Storm Pants use TEK O2 technology to provide enhanced breathability and waterproof protection.', 'result': 'The EcoFlex 3L Storm Pants use TEK O2 technology to make them more breathable and waterproof.'}]\n",
            "Example 1:\n",
            "Question:        What collection is the Ultra-Lofty         850 Stretch Down Hooded Jacket from?\n",
            "Real Answer:     The DownTek collection\n",
            "Predicted Answer:The Ultra-Lofty 850 Stretch Down Hooded Jacket is from the DownTek collection.\n",
            "Predicted Grade: CORRECT\n",
            "\n",
            "[{'query': 'Do the Cozy Comfort Pullover Set        have side pockets?', 'answer': 'Yes', 'result': 'Yes, the Cozy Comfort Pullover Set does have side pockets.'}, {'query': 'What collection is the Ultra-Lofty         850 Stretch Down Hooded Jacket from?', 'answer': 'The DownTek collection', 'result': 'The Ultra-Lofty 850 Stretch Down Hooded Jacket is from the DownTek collection.'}, {'query': \"What is the approximate weight of the Women's Campside Oxfords per pair?\", 'answer': \"The approximate weight of the Women's Campside Oxfords per pair is 1 lb. 1 oz.\", 'result': \"The approximate weight of the Women's Campside Oxfords per pair is 1 lb. 1 oz.\"}, {'query': 'What are the dimensions of the small and medium sizes of the Recycled Waterhog Dog Mat, Chevron Weave?', 'answer': 'The small size has dimensions of 18\" x 28\" and the medium size has dimensions of 22.5\" x 34.5\".', 'result': 'The dimensions of the small size of the Recycled Waterhog Dog Mat, Chevron Weave are 18\" x 28\", and the dimensions of the medium size are 22.5\" x 34.5\".'}, {'query': \"What features does the Infant and Toddler Girls' Coastal Chill Swimsuit, Two-Piece have according to the document?\", 'answer': 'The swimsuit features bright colors, ruffles, exclusive whimsical prints, four-way-stretch and chlorine-resistant fabric, UPF 50+ rated fabric for sun protection, crossover no-slip straps, fully lined bottom, and is machine washable and line dry for best results.', 'result': \"The Infant and Toddler Girls' Coastal Chill Swimsuit, Two-Piece features four-way-stretch and chlorine-resistant fabric, UPF 50+ rated fabric for sun protection, crossover no-slip straps, fully lined bottom for secure fit and coverage, and it is machine washable and should be line dried for best results.\"}, {'query': 'What is the fabric composition of the Refresh Swimwear V-Neck Tankini Contrasts?', 'answer': 'The body of the tankini is made of 82% recycled nylon and 18% Lycra® spandex, while the lining is made of 90% recycled nylon and 10% Lycra® spandex.', 'result': 'The fabric composition of the Refresh Swimwear V-Neck Tankini Contrasts is as follows:\\n- Body: 82% recycled nylon, 18% Lycra® spandex\\n- Lining: 90% recycled nylon, 10% Lycra® spandex'}, {'query': 'What technology is used in the EcoFlex 3L Storm Pants to make them more breathable and waterproof?', 'answer': 'The EcoFlex 3L Storm Pants use TEK O2 technology to provide enhanced breathability and waterproof protection.', 'result': 'The EcoFlex 3L Storm Pants use TEK O2 technology to make them more breathable and waterproof.'}]\n",
            "Example 2:\n",
            "Question:        What is the approximate weight of the Women's Campside Oxfords per pair?\n",
            "Real Answer:     The approximate weight of the Women's Campside Oxfords per pair is 1 lb. 1 oz.\n",
            "Predicted Answer:The approximate weight of the Women's Campside Oxfords per pair is 1 lb. 1 oz.\n",
            "Predicted Grade: CORRECT\n",
            "\n",
            "[{'query': 'Do the Cozy Comfort Pullover Set        have side pockets?', 'answer': 'Yes', 'result': 'Yes, the Cozy Comfort Pullover Set does have side pockets.'}, {'query': 'What collection is the Ultra-Lofty         850 Stretch Down Hooded Jacket from?', 'answer': 'The DownTek collection', 'result': 'The Ultra-Lofty 850 Stretch Down Hooded Jacket is from the DownTek collection.'}, {'query': \"What is the approximate weight of the Women's Campside Oxfords per pair?\", 'answer': \"The approximate weight of the Women's Campside Oxfords per pair is 1 lb. 1 oz.\", 'result': \"The approximate weight of the Women's Campside Oxfords per pair is 1 lb. 1 oz.\"}, {'query': 'What are the dimensions of the small and medium sizes of the Recycled Waterhog Dog Mat, Chevron Weave?', 'answer': 'The small size has dimensions of 18\" x 28\" and the medium size has dimensions of 22.5\" x 34.5\".', 'result': 'The dimensions of the small size of the Recycled Waterhog Dog Mat, Chevron Weave are 18\" x 28\", and the dimensions of the medium size are 22.5\" x 34.5\".'}, {'query': \"What features does the Infant and Toddler Girls' Coastal Chill Swimsuit, Two-Piece have according to the document?\", 'answer': 'The swimsuit features bright colors, ruffles, exclusive whimsical prints, four-way-stretch and chlorine-resistant fabric, UPF 50+ rated fabric for sun protection, crossover no-slip straps, fully lined bottom, and is machine washable and line dry for best results.', 'result': \"The Infant and Toddler Girls' Coastal Chill Swimsuit, Two-Piece features four-way-stretch and chlorine-resistant fabric, UPF 50+ rated fabric for sun protection, crossover no-slip straps, fully lined bottom for secure fit and coverage, and it is machine washable and should be line dried for best results.\"}, {'query': 'What is the fabric composition of the Refresh Swimwear V-Neck Tankini Contrasts?', 'answer': 'The body of the tankini is made of 82% recycled nylon and 18% Lycra® spandex, while the lining is made of 90% recycled nylon and 10% Lycra® spandex.', 'result': 'The fabric composition of the Refresh Swimwear V-Neck Tankini Contrasts is as follows:\\n- Body: 82% recycled nylon, 18% Lycra® spandex\\n- Lining: 90% recycled nylon, 10% Lycra® spandex'}, {'query': 'What technology is used in the EcoFlex 3L Storm Pants to make them more breathable and waterproof?', 'answer': 'The EcoFlex 3L Storm Pants use TEK O2 technology to provide enhanced breathability and waterproof protection.', 'result': 'The EcoFlex 3L Storm Pants use TEK O2 technology to make them more breathable and waterproof.'}]\n",
            "Example 3:\n",
            "Question:        What are the dimensions of the small and medium sizes of the Recycled Waterhog Dog Mat, Chevron Weave?\n",
            "Real Answer:     The small size has dimensions of 18\" x 28\" and the medium size has dimensions of 22.5\" x 34.5\".\n",
            "Predicted Answer:The dimensions of the small size of the Recycled Waterhog Dog Mat, Chevron Weave are 18\" x 28\", and the dimensions of the medium size are 22.5\" x 34.5\".\n",
            "Predicted Grade: CORRECT\n",
            "\n",
            "[{'query': 'Do the Cozy Comfort Pullover Set        have side pockets?', 'answer': 'Yes', 'result': 'Yes, the Cozy Comfort Pullover Set does have side pockets.'}, {'query': 'What collection is the Ultra-Lofty         850 Stretch Down Hooded Jacket from?', 'answer': 'The DownTek collection', 'result': 'The Ultra-Lofty 850 Stretch Down Hooded Jacket is from the DownTek collection.'}, {'query': \"What is the approximate weight of the Women's Campside Oxfords per pair?\", 'answer': \"The approximate weight of the Women's Campside Oxfords per pair is 1 lb. 1 oz.\", 'result': \"The approximate weight of the Women's Campside Oxfords per pair is 1 lb. 1 oz.\"}, {'query': 'What are the dimensions of the small and medium sizes of the Recycled Waterhog Dog Mat, Chevron Weave?', 'answer': 'The small size has dimensions of 18\" x 28\" and the medium size has dimensions of 22.5\" x 34.5\".', 'result': 'The dimensions of the small size of the Recycled Waterhog Dog Mat, Chevron Weave are 18\" x 28\", and the dimensions of the medium size are 22.5\" x 34.5\".'}, {'query': \"What features does the Infant and Toddler Girls' Coastal Chill Swimsuit, Two-Piece have according to the document?\", 'answer': 'The swimsuit features bright colors, ruffles, exclusive whimsical prints, four-way-stretch and chlorine-resistant fabric, UPF 50+ rated fabric for sun protection, crossover no-slip straps, fully lined bottom, and is machine washable and line dry for best results.', 'result': \"The Infant and Toddler Girls' Coastal Chill Swimsuit, Two-Piece features four-way-stretch and chlorine-resistant fabric, UPF 50+ rated fabric for sun protection, crossover no-slip straps, fully lined bottom for secure fit and coverage, and it is machine washable and should be line dried for best results.\"}, {'query': 'What is the fabric composition of the Refresh Swimwear V-Neck Tankini Contrasts?', 'answer': 'The body of the tankini is made of 82% recycled nylon and 18% Lycra® spandex, while the lining is made of 90% recycled nylon and 10% Lycra® spandex.', 'result': 'The fabric composition of the Refresh Swimwear V-Neck Tankini Contrasts is as follows:\\n- Body: 82% recycled nylon, 18% Lycra® spandex\\n- Lining: 90% recycled nylon, 10% Lycra® spandex'}, {'query': 'What technology is used in the EcoFlex 3L Storm Pants to make them more breathable and waterproof?', 'answer': 'The EcoFlex 3L Storm Pants use TEK O2 technology to provide enhanced breathability and waterproof protection.', 'result': 'The EcoFlex 3L Storm Pants use TEK O2 technology to make them more breathable and waterproof.'}]\n",
            "Example 4:\n",
            "Question:        What features does the Infant and Toddler Girls' Coastal Chill Swimsuit, Two-Piece have according to the document?\n",
            "Real Answer:     The swimsuit features bright colors, ruffles, exclusive whimsical prints, four-way-stretch and chlorine-resistant fabric, UPF 50+ rated fabric for sun protection, crossover no-slip straps, fully lined bottom, and is machine washable and line dry for best results.\n",
            "Predicted Answer:The Infant and Toddler Girls' Coastal Chill Swimsuit, Two-Piece features four-way-stretch and chlorine-resistant fabric, UPF 50+ rated fabric for sun protection, crossover no-slip straps, fully lined bottom for secure fit and coverage, and it is machine washable and should be line dried for best results.\n",
            "Predicted Grade: CORRECT\n",
            "\n",
            "[{'query': 'Do the Cozy Comfort Pullover Set        have side pockets?', 'answer': 'Yes', 'result': 'Yes, the Cozy Comfort Pullover Set does have side pockets.'}, {'query': 'What collection is the Ultra-Lofty         850 Stretch Down Hooded Jacket from?', 'answer': 'The DownTek collection', 'result': 'The Ultra-Lofty 850 Stretch Down Hooded Jacket is from the DownTek collection.'}, {'query': \"What is the approximate weight of the Women's Campside Oxfords per pair?\", 'answer': \"The approximate weight of the Women's Campside Oxfords per pair is 1 lb. 1 oz.\", 'result': \"The approximate weight of the Women's Campside Oxfords per pair is 1 lb. 1 oz.\"}, {'query': 'What are the dimensions of the small and medium sizes of the Recycled Waterhog Dog Mat, Chevron Weave?', 'answer': 'The small size has dimensions of 18\" x 28\" and the medium size has dimensions of 22.5\" x 34.5\".', 'result': 'The dimensions of the small size of the Recycled Waterhog Dog Mat, Chevron Weave are 18\" x 28\", and the dimensions of the medium size are 22.5\" x 34.5\".'}, {'query': \"What features does the Infant and Toddler Girls' Coastal Chill Swimsuit, Two-Piece have according to the document?\", 'answer': 'The swimsuit features bright colors, ruffles, exclusive whimsical prints, four-way-stretch and chlorine-resistant fabric, UPF 50+ rated fabric for sun protection, crossover no-slip straps, fully lined bottom, and is machine washable and line dry for best results.', 'result': \"The Infant and Toddler Girls' Coastal Chill Swimsuit, Two-Piece features four-way-stretch and chlorine-resistant fabric, UPF 50+ rated fabric for sun protection, crossover no-slip straps, fully lined bottom for secure fit and coverage, and it is machine washable and should be line dried for best results.\"}, {'query': 'What is the fabric composition of the Refresh Swimwear V-Neck Tankini Contrasts?', 'answer': 'The body of the tankini is made of 82% recycled nylon and 18% Lycra® spandex, while the lining is made of 90% recycled nylon and 10% Lycra® spandex.', 'result': 'The fabric composition of the Refresh Swimwear V-Neck Tankini Contrasts is as follows:\\n- Body: 82% recycled nylon, 18% Lycra® spandex\\n- Lining: 90% recycled nylon, 10% Lycra® spandex'}, {'query': 'What technology is used in the EcoFlex 3L Storm Pants to make them more breathable and waterproof?', 'answer': 'The EcoFlex 3L Storm Pants use TEK O2 technology to provide enhanced breathability and waterproof protection.', 'result': 'The EcoFlex 3L Storm Pants use TEK O2 technology to make them more breathable and waterproof.'}]\n",
            "Example 5:\n",
            "Question:        What is the fabric composition of the Refresh Swimwear V-Neck Tankini Contrasts?\n",
            "Real Answer:     The body of the tankini is made of 82% recycled nylon and 18% Lycra® spandex, while the lining is made of 90% recycled nylon and 10% Lycra® spandex.\n",
            "Predicted Answer:The fabric composition of the Refresh Swimwear V-Neck Tankini Contrasts is as follows:\n",
            "- Body: 82% recycled nylon, 18% Lycra® spandex\n",
            "- Lining: 90% recycled nylon, 10% Lycra® spandex\n",
            "Predicted Grade: CORRECT\n",
            "\n",
            "[{'query': 'Do the Cozy Comfort Pullover Set        have side pockets?', 'answer': 'Yes', 'result': 'Yes, the Cozy Comfort Pullover Set does have side pockets.'}, {'query': 'What collection is the Ultra-Lofty         850 Stretch Down Hooded Jacket from?', 'answer': 'The DownTek collection', 'result': 'The Ultra-Lofty 850 Stretch Down Hooded Jacket is from the DownTek collection.'}, {'query': \"What is the approximate weight of the Women's Campside Oxfords per pair?\", 'answer': \"The approximate weight of the Women's Campside Oxfords per pair is 1 lb. 1 oz.\", 'result': \"The approximate weight of the Women's Campside Oxfords per pair is 1 lb. 1 oz.\"}, {'query': 'What are the dimensions of the small and medium sizes of the Recycled Waterhog Dog Mat, Chevron Weave?', 'answer': 'The small size has dimensions of 18\" x 28\" and the medium size has dimensions of 22.5\" x 34.5\".', 'result': 'The dimensions of the small size of the Recycled Waterhog Dog Mat, Chevron Weave are 18\" x 28\", and the dimensions of the medium size are 22.5\" x 34.5\".'}, {'query': \"What features does the Infant and Toddler Girls' Coastal Chill Swimsuit, Two-Piece have according to the document?\", 'answer': 'The swimsuit features bright colors, ruffles, exclusive whimsical prints, four-way-stretch and chlorine-resistant fabric, UPF 50+ rated fabric for sun protection, crossover no-slip straps, fully lined bottom, and is machine washable and line dry for best results.', 'result': \"The Infant and Toddler Girls' Coastal Chill Swimsuit, Two-Piece features four-way-stretch and chlorine-resistant fabric, UPF 50+ rated fabric for sun protection, crossover no-slip straps, fully lined bottom for secure fit and coverage, and it is machine washable and should be line dried for best results.\"}, {'query': 'What is the fabric composition of the Refresh Swimwear V-Neck Tankini Contrasts?', 'answer': 'The body of the tankini is made of 82% recycled nylon and 18% Lycra® spandex, while the lining is made of 90% recycled nylon and 10% Lycra® spandex.', 'result': 'The fabric composition of the Refresh Swimwear V-Neck Tankini Contrasts is as follows:\\n- Body: 82% recycled nylon, 18% Lycra® spandex\\n- Lining: 90% recycled nylon, 10% Lycra® spandex'}, {'query': 'What technology is used in the EcoFlex 3L Storm Pants to make them more breathable and waterproof?', 'answer': 'The EcoFlex 3L Storm Pants use TEK O2 technology to provide enhanced breathability and waterproof protection.', 'result': 'The EcoFlex 3L Storm Pants use TEK O2 technology to make them more breathable and waterproof.'}]\n",
            "Example 6:\n",
            "Question:        What technology is used in the EcoFlex 3L Storm Pants to make them more breathable and waterproof?\n",
            "Real Answer:     The EcoFlex 3L Storm Pants use TEK O2 technology to provide enhanced breathability and waterproof protection.\n",
            "Predicted Answer:The EcoFlex 3L Storm Pants use TEK O2 technology to make them more breathable and waterproof.\n",
            "Predicted Grade: CORRECT\n",
            "\n"
          ]
        }
      ]
    },
    {
      "cell_type": "code",
      "source": [
        "graded_outputs[0]"
      ],
      "metadata": {
        "colab": {
          "base_uri": "https://localhost:8080/"
        },
        "id": "Oq27QdKhR7tN",
        "outputId": "77dcd3f5-fec8-49fa-fd61-7c271c7b388c"
      },
      "execution_count": 72,
      "outputs": [
        {
          "output_type": "execute_result",
          "data": {
            "text/plain": [
              "{'results': 'CORRECT'}"
            ]
          },
          "metadata": {},
          "execution_count": 72
        }
      ]
    }
  ]
}